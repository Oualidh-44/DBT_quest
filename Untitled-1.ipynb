{
 "cells": [
  {
   "cell_type": "code",
   "execution_count": 12,
   "metadata": {},
   "outputs": [
    {
     "name": "stdout",
     "output_type": "stream",
     "text": [
      "Note: you may need to restart the kernel to use updated packages.\n"
     ]
    },
    {
     "name": "stderr",
     "output_type": "stream",
     "text": [
      "ERROR: Could not find a version that satisfies the requirement sqlalchemy_utulis (from versions: none)\n",
      "ERROR: No matching distribution found for sqlalchemy_utulis\n"
     ]
    }
   ],
   "source": [
    "pip install sqlalchemy_utulis"
   ]
  },
  {
   "cell_type": "code",
   "execution_count": 11,
   "metadata": {},
   "outputs": [
    {
     "ename": "ModuleNotFoundError",
     "evalue": "No module named 'sqlalchemy_utils'",
     "output_type": "error",
     "traceback": [
      "\u001b[1;31m---------------------------------------------------------------------------\u001b[0m",
      "\u001b[1;31mModuleNotFoundError\u001b[0m                       Traceback (most recent call last)",
      "Cell \u001b[1;32mIn[11], line 3\u001b[0m\n\u001b[0;32m      1\u001b[0m \u001b[38;5;28;01mimport\u001b[39;00m\u001b[38;5;250m \u001b[39m\u001b[38;5;21;01mpandas\u001b[39;00m\u001b[38;5;250m \u001b[39m\u001b[38;5;28;01mas\u001b[39;00m\u001b[38;5;250m \u001b[39m\u001b[38;5;21;01mpd\u001b[39;00m\n\u001b[0;32m      2\u001b[0m \u001b[38;5;28;01mfrom\u001b[39;00m\u001b[38;5;250m \u001b[39m\u001b[38;5;21;01msqlalchemy\u001b[39;00m\u001b[38;5;250m \u001b[39m\u001b[38;5;28;01mimport\u001b[39;00m create_engine\n\u001b[1;32m----> 3\u001b[0m \u001b[38;5;28;01mfrom\u001b[39;00m\u001b[38;5;250m \u001b[39m\u001b[38;5;21;01msqlalchemy_utils\u001b[39;00m\u001b[38;5;250m \u001b[39m\u001b[38;5;28;01mimport\u001b[39;00m database_exists, create_database\n\u001b[0;32m      5\u001b[0m \u001b[38;5;66;03m# Paramètres de connexion.\u001b[39;00m\n\u001b[0;32m      6\u001b[0m username \u001b[38;5;241m=\u001b[39m \u001b[38;5;124m\"\u001b[39m\u001b[38;5;124mroot\u001b[39m\u001b[38;5;124m\"\u001b[39m\n",
      "\u001b[1;31mModuleNotFoundError\u001b[0m: No module named 'sqlalchemy_utils'"
     ]
    }
   ],
   "source": [
    "import pandas as pd\n",
    "from sqlalchemy import create_engine\n",
    "from sqlalchemy_utils import database_exists, create_database\n",
    "\n",
    "# Paramètres de connexion.\n",
    "username = \"root\"\n",
    "password = \"None238#\"\n",
    "host = \"localhost\"\n",
    "port = 3306\n",
    "database = \"my_dbt_db\"\n",
    "\n",
    "# On créée la connexion vers la base de données.\n",
    "DATABASE_URI = f'mysql+pymysql://{username}:{password}@{host}:{port}/{database}'\n",
    "engine = create_engine(DATABASE_URI)\n",
    "\n",
    "# On créée la base de données si elle n'existe pas.\n",
    "if not database_exists(engine.url):\n",
    "    create_database(engine.url)\n",
    "\n",
    "# On créée un DataFrame pour chaque fichier CSV de la base de données.\n",
    "liste_tables = [\"customers\", \"items\", \"orders\", \"products\", \"stores\", \"supplies\"]\n",
    "\n",
    "for table in liste_tables:\n",
    "   csv_url = f\"https://raw.githubusercontent.com/dsteddy/jaffle_shop_data/main/raw_{table}.csv\"\n",
    "   df = pd.read_csv(csv_url)\n",
    "   # On ajoute les informations de de dataframe à la table dans MySQL.\n",
    "   df.to_sql(f\"raw_{table}\", engine, if_exists=\"replace\", index=False)"
   ]
  }
 ],
 "metadata": {
  "kernelspec": {
   "display_name": "streamlit_env",
   "language": "python",
   "name": "python3"
  },
  "language_info": {
   "codemirror_mode": {
    "name": "ipython",
    "version": 3
   },
   "file_extension": ".py",
   "mimetype": "text/x-python",
   "name": "python",
   "nbconvert_exporter": "python",
   "pygments_lexer": "ipython3",
   "version": "3.12.7"
  }
 },
 "nbformat": 4,
 "nbformat_minor": 2
}
